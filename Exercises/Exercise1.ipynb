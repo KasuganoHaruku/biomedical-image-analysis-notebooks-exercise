{
 "cells": [
  {
   "cell_type": "markdown",
   "id": "10c08a50",
   "metadata": {},
   "source": [
    "# Exercise 1\n",
    "\n",
    "In order to show the difference between directly subsample and subsample after using Gaussian Filter, I used two method to generate a new image: calculating the average value of neighborhood pixels and using the internal OpenCV subsample method."
   ]
  },
  {
   "cell_type": "code",
   "execution_count": 9,
   "id": "39ac213b",
   "metadata": {},
   "outputs": [],
   "source": [
    "import cv2\n",
    "import numpy\n",
    "import matplotlib.pyplot as plt"
   ]
  },
  {
   "cell_type": "code",
   "execution_count": 10,
   "id": "036a8a87",
   "metadata": {},
   "outputs": [
    {
     "name": "stdout",
     "output_type": "stream",
     "text": [
      "3024\n",
      "4737\n",
      "755\n",
      "1183\n"
     ]
    }
   ],
   "source": [
    "#read image\n",
    "img = cv2.imread(\"sample.jpg\",cv2.IMREAD_GRAYSCALE)\n",
    "size = img.shape\n",
    "w = size[0]\n",
    "h = size[1]\n",
    "\n",
    "#read sample rate\n",
    "rate = input(\"Subsample Rate:\")\n",
    "rate = int(rate)\n",
    "w_new = int(w/rate-1)\n",
    "h_new = int(h/rate-1)\n",
    "\n",
    "#create new image\n",
    "new=numpy.zeros((w_new,h_new),dtype=numpy.uint8)\n",
    "\n",
    "print(w)\n",
    "print(h)\n",
    "print(w_new)\n",
    "print(h_new)"
   ]
  },
  {
   "cell_type": "markdown",
   "id": "056ee1cf",
   "metadata": {},
   "source": [
    "In this example, if I set the subsample rate to 4, the code will read a 4*4 area in the sample image, calculate their average gray value, then set the value to one pixel in the new image. For example, the average gray value of (0,0) to (4,4) of the sample image will be set to (0,0) of the new image.\n",
    "\n",
    "Then, I used the internal method twice to get a same size image, however, this method has already applied Gaussian Filter to the sample image before subsampling."
   ]
  },
  {
   "cell_type": "code",
   "execution_count": 11,
   "id": "d03b671b",
   "metadata": {},
   "outputs": [],
   "source": [
    "#read source image value\n",
    "for i in range(0,w_new):\n",
    "    for j in range(0,h_new):\n",
    "        val = 0\n",
    "        for m in range(0,rate):\n",
    "            for n in range(0,rate):\n",
    "                x = int(rate*i + m)\n",
    "                y = int(rate*j + n)\n",
    "                val = val + int(img[x,y])\n",
    "        r = rate**2\n",
    "        new[i,j] = int(val/r)  #write to new image\n",
    "        \n",
    "#using OpenCV internal subsample\n",
    "new_cv = cv2.pyrDown(img)\n",
    "new_cv = cv2.pyrDown(new_cv)\n"
   ]
  },
  {
   "cell_type": "code",
   "execution_count": 12,
   "id": "6cc870f7",
   "metadata": {},
   "outputs": [
    {
     "data": {
      "text/plain": [
       "-1"
      ]
     },
     "execution_count": 12,
     "metadata": {},
     "output_type": "execute_result"
    }
   ],
   "source": [
    "#show new image \n",
    "cv2.imwrite(\"exercise1.jpg\", new)\n",
    "cv2.imwrite(\"exercise1_cv.jpg\", new_cv)\n",
    "#cv2.imshow(\"image\", new)\n",
    "#cv2.imshow(\"image2\", img)\n",
    "cv2.waitKey(0)"
   ]
  },
  {
   "cell_type": "markdown",
   "id": "b2e40b85",
   "metadata": {},
   "source": [
    "# Result\n",
    "From the result, we can see that using the first method, the sampled image has lots of Moire patterns. On the contrary, using the internal method can get a image without them."
   ]
  },
  {
   "cell_type": "code",
   "execution_count": null,
   "id": "42757339",
   "metadata": {},
   "outputs": [],
   "source": []
  }
 ],
 "metadata": {
  "kernelspec": {
   "display_name": "Python 3 (ipykernel)",
   "language": "python",
   "name": "python3"
  },
  "language_info": {
   "codemirror_mode": {
    "name": "ipython",
    "version": 3
   },
   "file_extension": ".py",
   "mimetype": "text/x-python",
   "name": "python",
   "nbconvert_exporter": "python",
   "pygments_lexer": "ipython3",
   "version": "3.11.4"
  }
 },
 "nbformat": 4,
 "nbformat_minor": 5
}
