{
 "cells": [
  {
   "cell_type": "markdown",
   "metadata": {},
   "source": [
    "# Exercise2\n",
    "\n",
    "In this exercise, I compared two ways of pre-processing an image. The first way is using a Gaussian Filter, another way is using a Median Filter."
   ]
  },
  {
   "cell_type": "code",
   "execution_count": 66,
   "metadata": {},
   "outputs": [],
   "source": [
    "import numpy\n",
    "import cv2\n",
    "import random\n",
    "import matplotlib.pyplot as plt"
   ]
  },
  {
   "cell_type": "markdown",
   "metadata": {},
   "source": [
    "The ksize of Gaussian Filter is 9*9, and according to the empirical formula, sigma is set to 13;\n",
    "\n",
    "The ksize of Median Filter is also 9*9."
   ]
  },
  {
   "cell_type": "code",
   "execution_count": 67,
   "metadata": {},
   "outputs": [],
   "source": [
    "#read image\n",
    "img = cv2.imread(\"sample.jpg\",cv2.IMREAD_GRAYSCALE)\n",
    "img_g = cv2.GaussianBlur(img,(9,9),13)\n",
    "img_mid = cv2.medianBlur(img,9)"
   ]
  },
  {
   "cell_type": "code",
   "execution_count": 68,
   "metadata": {},
   "outputs": [
    {
     "data": {
      "text/plain": [
       "-1"
      ]
     },
     "execution_count": 68,
     "metadata": {},
     "output_type": "execute_result"
    }
   ],
   "source": [
    "cv2.imwrite(\"exercise2_gaussian.jpg\", img_g)\n",
    "cv2.imwrite(\"exercise2_median.jpg\", img_mid)\n",
    "#cv2.imshow(\"image\", img_new)\n",
    "cv2.waitKey(0)"
   ]
  },
  {
   "cell_type": "markdown",
   "metadata": {},
   "source": [
    "# Result\n",
    "\n",
    "The edges in the image using Median Filter is much more clear than using the Gaussian Filter, but also have more Moire patterns and are a little unreal."
   ]
  }
 ],
 "metadata": {
  "kernelspec": {
   "display_name": "base",
   "language": "python",
   "name": "python3"
  },
  "language_info": {
   "codemirror_mode": {
    "name": "ipython",
    "version": 3
   },
   "file_extension": ".py",
   "mimetype": "text/x-python",
   "name": "python",
   "nbconvert_exporter": "python",
   "pygments_lexer": "ipython3",
   "version": "3.11.4"
  },
  "orig_nbformat": 4
 },
 "nbformat": 4,
 "nbformat_minor": 2
}
