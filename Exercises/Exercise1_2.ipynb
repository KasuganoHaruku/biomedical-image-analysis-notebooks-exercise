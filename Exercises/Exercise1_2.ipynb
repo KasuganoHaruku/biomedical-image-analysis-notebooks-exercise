{
 "cells": [
  {
   "cell_type": "code",
   "execution_count": 37,
   "id": "39ac213b",
   "metadata": {},
   "outputs": [],
   "source": [
    "import cv2\n",
    "import numpy\n",
    "import matplotlib.pyplot as plt"
   ]
  },
  {
   "cell_type": "code",
   "execution_count": 38,
   "id": "036a8a87",
   "metadata": {},
   "outputs": [
    {
     "name": "stdout",
     "output_type": "stream",
     "text": [
      "51\n",
      "51\n",
      "6\n",
      "6\n"
     ]
    }
   ],
   "source": [
    "#read image\n",
    "img = cv2.imread(\"bw.jpg\",cv2.IMREAD_GRAYSCALE)\n",
    "size = img.shape\n",
    "w = size[0]\n",
    "h = size[1]\n",
    "\n",
    "#read sample rate\n",
    "rate = input(\"Subsample Rate:\")\n",
    "rate = int(rate)\n",
    "w_new = int(w/rate-1)\n",
    "h_new = int(h/rate-1)\n",
    "\n",
    "#create new image\n",
    "new=numpy.zeros((w_new,h_new),dtype=numpy.uint8)\n",
    "\n",
    "print(w)\n",
    "print(h)\n",
    "print(w_new)\n",
    "print(h_new)"
   ]
  },
  {
   "cell_type": "code",
   "execution_count": 39,
   "id": "d03b671b",
   "metadata": {},
   "outputs": [],
   "source": [
    "#read source image value\n",
    "for i in range(0,w_new):\n",
    "    for j in range(0,h_new):\n",
    "        val = img[i*rate,j*rate]\n",
    "        new[i,j] = val #write to new image\n"
   ]
  },
  {
   "cell_type": "code",
   "execution_count": 40,
   "id": "6cc870f7",
   "metadata": {},
   "outputs": [
    {
     "data": {
      "text/plain": [
       "-1"
      ]
     },
     "execution_count": 40,
     "metadata": {},
     "output_type": "execute_result"
    }
   ],
   "source": [
    "#show new image\n",
    "cv2.imwrite(\"bw_sampled.jpg\", new)\n",
    "cv2.imshow(\"bw\", new)\n",
    "cv2.waitKey(0)"
   ]
  },
  {
   "cell_type": "code",
   "execution_count": null,
   "id": "42757339",
   "metadata": {},
   "outputs": [],
   "source": []
  }
 ],
 "metadata": {
  "kernelspec": {
   "display_name": "Python 3 (ipykernel)",
   "language": "python",
   "name": "python3"
  },
  "language_info": {
   "codemirror_mode": {
    "name": "ipython",
    "version": 3
   },
   "file_extension": ".py",
   "mimetype": "text/x-python",
   "name": "python",
   "nbconvert_exporter": "python",
   "pygments_lexer": "ipython3",
   "version": "3.11.4"
  }
 },
 "nbformat": 4,
 "nbformat_minor": 5
}
