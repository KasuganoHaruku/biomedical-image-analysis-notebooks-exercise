{
 "cells": [
  {
   "cell_type": "code",
   "execution_count": 7,
   "id": "39ac213b",
   "metadata": {},
   "outputs": [],
   "source": [
    "import cv2\n",
    "import numpy\n",
    "import matplotlib.pyplot as plt"
   ]
  },
  {
   "cell_type": "code",
   "execution_count": 8,
   "id": "036a8a87",
   "metadata": {},
   "outputs": [
    {
     "name": "stdout",
     "output_type": "stream",
     "text": [
      "3024\n",
      "4737\n",
      "301\n",
      "472\n"
     ]
    }
   ],
   "source": [
    "#read image\n",
    "img = cv2.imread(\"sample.jpg\",cv2.IMREAD_GRAYSCALE)\n",
    "size = img.shape\n",
    "w = size[0]\n",
    "h = size[1]\n",
    "\n",
    "#read sample rate\n",
    "rate = input(\"Subsample Rate:\")\n",
    "rate = int(rate)\n",
    "w_new = int(w/rate-1)\n",
    "h_new = int(h/rate-1)\n",
    "\n",
    "#create new image\n",
    "new=numpy.zeros((w_new,h_new),dtype=numpy.uint8)\n",
    "\n",
    "print(w)\n",
    "print(h)\n",
    "print(w_new)\n",
    "print(h_new)"
   ]
  },
  {
   "cell_type": "code",
   "execution_count": 9,
   "id": "d03b671b",
   "metadata": {},
   "outputs": [],
   "source": [
    "#read source image value\n",
    "for i in range(0,w_new):\n",
    "    for j in range(0,h_new):\n",
    "        val = 0\n",
    "        for m in range(0,rate):\n",
    "            for n in range(0,rate):\n",
    "                x = int(rate*i + m)\n",
    "                y = int(rate*j + n)\n",
    "                val = val + int(img[x,y])\n",
    "        r = rate**2\n",
    "        new[i,j] = int(val/r)  #write to new image\n"
   ]
  },
  {
   "cell_type": "code",
   "execution_count": 10,
   "id": "6cc870f7",
   "metadata": {},
   "outputs": [
    {
     "data": {
      "text/plain": [
       "-1"
      ]
     },
     "execution_count": 10,
     "metadata": {},
     "output_type": "execute_result"
    }
   ],
   "source": [
    "#show new image\n",
    "cv2.namedWindow(\"image\")    \n",
    "cv2.imshow(\"image\", new)\n",
    "cv2.imshow(\"image2\", img)\n",
    "cv2.waitKey(0)"
   ]
  },
  {
   "cell_type": "code",
   "execution_count": null,
   "id": "42757339",
   "metadata": {},
   "outputs": [],
   "source": []
  },
  {
   "cell_type": "code",
   "execution_count": null,
   "id": "863f874b",
   "metadata": {},
   "outputs": [],
   "source": []
  }
 ],
 "metadata": {
  "kernelspec": {
   "display_name": "Python 3 (ipykernel)",
   "language": "python",
   "name": "python3"
  },
  "language_info": {
   "codemirror_mode": {
    "name": "ipython",
    "version": 3
   },
   "file_extension": ".py",
   "mimetype": "text/x-python",
   "name": "python",
   "nbconvert_exporter": "python",
   "pygments_lexer": "ipython3",
   "version": "3.11.4"
  }
 },
 "nbformat": 4,
 "nbformat_minor": 5
}
